{
 "cells": [
  {
   "cell_type": "markdown",
   "id": "cc28d3fd",
   "metadata": {},
   "source": [
    "# Titanic - Machine Learning from Disaster"
   ]
  },
  {
   "cell_type": "markdown",
   "id": "54288f57",
   "metadata": {},
   "source": [
    "Attempting to build a predictive model that answers the question: “what sorts of people were more likely to survive?” using passenger data (i.e. name, age, gender, socio-economic class, etc)."
   ]
  },
  {
   "cell_type": "markdown",
   "id": "f18238db",
   "metadata": {},
   "source": [
    "## Imports"
   ]
  },
  {
   "cell_type": "code",
   "execution_count": 685,
   "id": "cb11b46e",
   "metadata": {},
   "outputs": [],
   "source": [
    "import opendatasets as od"
   ]
  },
  {
   "cell_type": "code",
   "execution_count": 686,
   "id": "a2800acc",
   "metadata": {},
   "outputs": [],
   "source": [
    "import pandas as pd"
   ]
  },
  {
   "cell_type": "code",
   "execution_count": 687,
   "id": "6b69828a",
   "metadata": {},
   "outputs": [],
   "source": [
    "import numpy as np"
   ]
  },
  {
   "cell_type": "code",
   "execution_count": 688,
   "id": "ab23c2b8",
   "metadata": {},
   "outputs": [],
   "source": [
    "import matplotlib.pyplot as plt"
   ]
  },
  {
   "cell_type": "code",
   "execution_count": 689,
   "id": "5152bf94",
   "metadata": {},
   "outputs": [],
   "source": [
    "from scipy.stats import skew"
   ]
  },
  {
   "cell_type": "code",
   "execution_count": 690,
   "id": "533d6244",
   "metadata": {},
   "outputs": [],
   "source": [
    "import seaborn as sns"
   ]
  },
  {
   "cell_type": "code",
   "execution_count": 691,
   "id": "dc558536",
   "metadata": {},
   "outputs": [],
   "source": [
    "import math\n",
    "from matplotlib.patches import Rectangle"
   ]
  },
  {
   "cell_type": "markdown",
   "id": "d89f0f8d",
   "metadata": {},
   "source": [
    "## 1. Getting the Data"
   ]
  },
  {
   "cell_type": "code",
   "execution_count": 692,
   "id": "66d05b71",
   "metadata": {
    "scrolled": true
   },
   "outputs": [
    {
     "name": "stdout",
     "output_type": "stream",
     "text": [
      "Requirement already satisfied: opendatasets in c:\\users\\torju\\programming\\anaconda\\lib\\site-packages (0.1.22)\n",
      "Requirement already satisfied: click in c:\\users\\torju\\programming\\anaconda\\lib\\site-packages (from opendatasets) (7.1.2)\n",
      "Requirement already satisfied: kaggle in c:\\users\\torju\\programming\\anaconda\\lib\\site-packages (from opendatasets) (1.5.12)\n",
      "Requirement already satisfied: tqdm in c:\\users\\torju\\programming\\anaconda\\lib\\site-packages (from opendatasets) (4.59.0)\n",
      "Requirement already satisfied: requests in c:\\users\\torju\\programming\\anaconda\\lib\\site-packages (from kaggle->opendatasets) (2.25.1)\n",
      "Requirement already satisfied: six>=1.10 in c:\\users\\torju\\programming\\anaconda\\lib\\site-packages (from kaggle->opendatasets) (1.15.0)\n",
      "Requirement already satisfied: python-slugify in c:\\users\\torju\\programming\\anaconda\\lib\\site-packages (from kaggle->opendatasets) (6.1.2)\n",
      "Requirement already satisfied: python-dateutil in c:\\users\\torju\\programming\\anaconda\\lib\\site-packages (from kaggle->opendatasets) (2.8.1)\n",
      "Requirement already satisfied: urllib3 in c:\\users\\torju\\programming\\anaconda\\lib\\site-packages (from kaggle->opendatasets) (1.26.4)\n",
      "Requirement already satisfied: certifi in c:\\users\\torju\\programming\\anaconda\\lib\\site-packages (from kaggle->opendatasets) (2020.12.5)\n",
      "Requirement already satisfied: text-unidecode>=1.3 in c:\\users\\torju\\programming\\anaconda\\lib\\site-packages (from python-slugify->kaggle->opendatasets) (1.3)\n",
      "Requirement already satisfied: chardet<5,>=3.0.2 in c:\\users\\torju\\programming\\anaconda\\lib\\site-packages (from requests->kaggle->opendatasets) (4.0.0)\n",
      "Requirement already satisfied: idna<3,>=2.5 in c:\\users\\torju\\programming\\anaconda\\lib\\site-packages (from requests->kaggle->opendatasets) (2.10)\n"
     ]
    }
   ],
   "source": [
    "!pip install opendatasets"
   ]
  },
  {
   "cell_type": "code",
   "execution_count": 693,
   "id": "c9d85da9",
   "metadata": {},
   "outputs": [
    {
     "name": "stdout",
     "output_type": "stream",
     "text": [
      "Skipping, found downloaded files in \".\\titanic\" (use force=True to force download)\n"
     ]
    }
   ],
   "source": [
    "od.download(\"https://www.kaggle.com/competitions/titanic/data\")\n"
   ]
  },
  {
   "cell_type": "markdown",
   "id": "1461f914",
   "metadata": {},
   "source": [
    "Here is our training set:"
   ]
  },
  {
   "cell_type": "code",
   "execution_count": 694,
   "id": "0f0638e1",
   "metadata": {
    "scrolled": true
   },
   "outputs": [],
   "source": [
    "train_set = pd.read_csv('titanic/train.csv')"
   ]
  },
  {
   "cell_type": "markdown",
   "id": "07baec32",
   "metadata": {},
   "source": [
    "And here is our test set:"
   ]
  },
  {
   "cell_type": "code",
   "execution_count": 695,
   "id": "403a0994",
   "metadata": {},
   "outputs": [],
   "source": [
    "test_set = pd.read_csv('titanic/test.csv')"
   ]
  },
  {
   "cell_type": "markdown",
   "id": "d11a2dbf",
   "metadata": {},
   "source": [
    "Below is a set of data in which survival predictions are made on gender. This should amount to something like a 50% survival rate."
   ]
  },
  {
   "cell_type": "code",
   "execution_count": 696,
   "id": "cc6c7713",
   "metadata": {},
   "outputs": [],
   "source": [
    "survived = pd.read_csv('titanic/gender_submission.csv')"
   ]
  },
  {
   "cell_type": "markdown",
   "id": "d743364e",
   "metadata": {},
   "source": [
    "Now it's time for our second step - studying the data more in depth!"
   ]
  },
  {
   "cell_type": "markdown",
   "id": "ee527941",
   "metadata": {},
   "source": [
    "## 2. Studying the Data"
   ]
  },
  {
   "cell_type": "markdown",
   "id": "e5f001f5",
   "metadata": {},
   "source": [
    "Let's start with a quick look at the data to make sure it is all good:"
   ]
  },
  {
   "cell_type": "code",
   "execution_count": 697,
   "id": "3732e45c",
   "metadata": {},
   "outputs": [
    {
     "data": {
      "text/html": [
       "<div>\n",
       "<style scoped>\n",
       "    .dataframe tbody tr th:only-of-type {\n",
       "        vertical-align: middle;\n",
       "    }\n",
       "\n",
       "    .dataframe tbody tr th {\n",
       "        vertical-align: top;\n",
       "    }\n",
       "\n",
       "    .dataframe thead th {\n",
       "        text-align: right;\n",
       "    }\n",
       "</style>\n",
       "<table border=\"1\" class=\"dataframe\">\n",
       "  <thead>\n",
       "    <tr style=\"text-align: right;\">\n",
       "      <th></th>\n",
       "      <th>PassengerId</th>\n",
       "      <th>Survived</th>\n",
       "      <th>Pclass</th>\n",
       "      <th>Name</th>\n",
       "      <th>Sex</th>\n",
       "      <th>Age</th>\n",
       "      <th>SibSp</th>\n",
       "      <th>Parch</th>\n",
       "      <th>Ticket</th>\n",
       "      <th>Fare</th>\n",
       "      <th>Cabin</th>\n",
       "      <th>Embarked</th>\n",
       "    </tr>\n",
       "  </thead>\n",
       "  <tbody>\n",
       "    <tr>\n",
       "      <th>0</th>\n",
       "      <td>1</td>\n",
       "      <td>0</td>\n",
       "      <td>3</td>\n",
       "      <td>Braund, Mr. Owen Harris</td>\n",
       "      <td>male</td>\n",
       "      <td>22.0</td>\n",
       "      <td>1</td>\n",
       "      <td>0</td>\n",
       "      <td>A/5 21171</td>\n",
       "      <td>7.2500</td>\n",
       "      <td>NaN</td>\n",
       "      <td>S</td>\n",
       "    </tr>\n",
       "    <tr>\n",
       "      <th>1</th>\n",
       "      <td>2</td>\n",
       "      <td>1</td>\n",
       "      <td>1</td>\n",
       "      <td>Cumings, Mrs. John Bradley (Florence Briggs Th...</td>\n",
       "      <td>female</td>\n",
       "      <td>38.0</td>\n",
       "      <td>1</td>\n",
       "      <td>0</td>\n",
       "      <td>PC 17599</td>\n",
       "      <td>71.2833</td>\n",
       "      <td>C85</td>\n",
       "      <td>C</td>\n",
       "    </tr>\n",
       "    <tr>\n",
       "      <th>2</th>\n",
       "      <td>3</td>\n",
       "      <td>1</td>\n",
       "      <td>3</td>\n",
       "      <td>Heikkinen, Miss. Laina</td>\n",
       "      <td>female</td>\n",
       "      <td>26.0</td>\n",
       "      <td>0</td>\n",
       "      <td>0</td>\n",
       "      <td>STON/O2. 3101282</td>\n",
       "      <td>7.9250</td>\n",
       "      <td>NaN</td>\n",
       "      <td>S</td>\n",
       "    </tr>\n",
       "    <tr>\n",
       "      <th>3</th>\n",
       "      <td>4</td>\n",
       "      <td>1</td>\n",
       "      <td>1</td>\n",
       "      <td>Futrelle, Mrs. Jacques Heath (Lily May Peel)</td>\n",
       "      <td>female</td>\n",
       "      <td>35.0</td>\n",
       "      <td>1</td>\n",
       "      <td>0</td>\n",
       "      <td>113803</td>\n",
       "      <td>53.1000</td>\n",
       "      <td>C123</td>\n",
       "      <td>S</td>\n",
       "    </tr>\n",
       "    <tr>\n",
       "      <th>4</th>\n",
       "      <td>5</td>\n",
       "      <td>0</td>\n",
       "      <td>3</td>\n",
       "      <td>Allen, Mr. William Henry</td>\n",
       "      <td>male</td>\n",
       "      <td>35.0</td>\n",
       "      <td>0</td>\n",
       "      <td>0</td>\n",
       "      <td>373450</td>\n",
       "      <td>8.0500</td>\n",
       "      <td>NaN</td>\n",
       "      <td>S</td>\n",
       "    </tr>\n",
       "  </tbody>\n",
       "</table>\n",
       "</div>"
      ],
      "text/plain": [
       "   PassengerId  Survived  Pclass  \\\n",
       "0            1         0       3   \n",
       "1            2         1       1   \n",
       "2            3         1       3   \n",
       "3            4         1       1   \n",
       "4            5         0       3   \n",
       "\n",
       "                                                Name     Sex   Age  SibSp  \\\n",
       "0                            Braund, Mr. Owen Harris    male  22.0      1   \n",
       "1  Cumings, Mrs. John Bradley (Florence Briggs Th...  female  38.0      1   \n",
       "2                             Heikkinen, Miss. Laina  female  26.0      0   \n",
       "3       Futrelle, Mrs. Jacques Heath (Lily May Peel)  female  35.0      1   \n",
       "4                           Allen, Mr. William Henry    male  35.0      0   \n",
       "\n",
       "   Parch            Ticket     Fare Cabin Embarked  \n",
       "0      0         A/5 21171   7.2500   NaN        S  \n",
       "1      0          PC 17599  71.2833   C85        C  \n",
       "2      0  STON/O2. 3101282   7.9250   NaN        S  \n",
       "3      0            113803  53.1000  C123        S  \n",
       "4      0            373450   8.0500   NaN        S  "
      ]
     },
     "execution_count": 697,
     "metadata": {},
     "output_type": "execute_result"
    }
   ],
   "source": [
    "train_set.head()"
   ]
  },
  {
   "cell_type": "markdown",
   "id": "b6bbad3f",
   "metadata": {},
   "source": [
    "Looks thick, solid and tight. How many rows are there in the sets?"
   ]
  },
  {
   "cell_type": "code",
   "execution_count": 698,
   "id": "287ea0f5",
   "metadata": {},
   "outputs": [
    {
     "name": "stdout",
     "output_type": "stream",
     "text": [
      "Number of rows in training set: 891\n",
      "Number of rows in test set:     418\n"
     ]
    }
   ],
   "source": [
    "print('Number of rows in training set: ' + str(len(train_set)))\n",
    "print('Number of rows in test set:     ' + str(len(test_set)))"
   ]
  },
  {
   "cell_type": "markdown",
   "id": "d47860ad",
   "metadata": {},
   "source": [
    "Perhaps not the ideal 80/20 split, but oh well. What data types are we dealing with?"
   ]
  },
  {
   "cell_type": "code",
   "execution_count": 699,
   "id": "b34682e1",
   "metadata": {},
   "outputs": [
    {
     "data": {
      "text/plain": [
       "PassengerId      int64\n",
       "Survived         int64\n",
       "Pclass           int64\n",
       "Name            object\n",
       "Sex             object\n",
       "Age            float64\n",
       "SibSp            int64\n",
       "Parch            int64\n",
       "Ticket          object\n",
       "Fare           float64\n",
       "Cabin           object\n",
       "Embarked        object\n",
       "dtype: object"
      ]
     },
     "execution_count": 699,
     "metadata": {},
     "output_type": "execute_result"
    }
   ],
   "source": [
    "train_set.dtypes"
   ]
  },
  {
   "cell_type": "markdown",
   "id": "711bc8fd",
   "metadata": {},
   "source": [
    "Let's take a look at what data is missing."
   ]
  },
  {
   "cell_type": "markdown",
   "id": "9fa3bb31",
   "metadata": {},
   "source": [
    "### Missing data"
   ]
  },
  {
   "cell_type": "code",
   "execution_count": 700,
   "id": "f315277b",
   "metadata": {},
   "outputs": [
    {
     "name": "stdout",
     "output_type": "stream",
     "text": [
      "EMPTY ROWS:\n",
      "\n",
      "PassengerId: 0, 0%\n",
      "Survived: 0, 0%\n",
      "Pclass: 0, 0%\n",
      "Name: 0, 0%\n",
      "Sex: 0, 0%\n",
      "Age: 177, 20%\n",
      "SibSp: 0, 0%\n",
      "Parch: 0, 0%\n",
      "Ticket: 0, 0%\n",
      "Fare: 0, 0%\n",
      "Cabin: 687, 78%\n",
      "Embarked: 2, 1%\n"
     ]
    }
   ],
   "source": [
    "print('EMPTY ROWS:\\n')\n",
    "\n",
    "for category in train_set:\n",
    "    null_values = len(np.where(pd.isnull(train_set[category]))[0])\n",
    "    print(category +  \": \" + str(null_values) + \", \" + str(math.ceil(null_values/len(train_set) * 100)) + '%')"
   ]
  },
  {
   "cell_type": "code",
   "execution_count": 701,
   "id": "ac1ce716",
   "metadata": {},
   "outputs": [],
   "source": [
    "#TODO: Try making this a DataFrame instead"
   ]
  },
  {
   "cell_type": "markdown",
   "id": "3b5d95a7",
   "metadata": {},
   "source": [
    "Seems like there are three rows that need some action; 'Age', 'Cabin' and 'Embarked'.\n",
    "\n",
    "'Age' has a medium amount of missing values, 'Cabin' is largely missing altogether, while 'Embarked' is mostly filled out. These will all be handled in section 3."
   ]
  },
  {
   "cell_type": "code",
   "execution_count": 702,
   "id": "c478f3db",
   "metadata": {},
   "outputs": [],
   "source": [
    "#TODO: Data visualization, other forms of looking at the data"
   ]
  },
  {
   "cell_type": "markdown",
   "id": "55199f7c",
   "metadata": {},
   "source": [
    "Let's try and visualize deaths and age in histograms:"
   ]
  },
  {
   "cell_type": "code",
   "execution_count": 703,
   "id": "c6c5c2a1",
   "metadata": {},
   "outputs": [
    {
     "data": {
      "image/png": "[encoded data removed]",
      "text/plain": [
       "<Figure size 432x288 with 1 Axes>"
      ]
     },
     "metadata": {
      "needs_background": "light"
     },
     "output_type": "display_data"
    }
   ],
   "source": [
    "survivors = train_set.loc[train_set['Survived'] == 1]\n",
    "casualties = train_set.loc[train_set['Survived'] == 0]\n",
    "\n",
    "plt.hist([survivors['Age'], casualties['Age']], stacked=True)\n",
    "plt.legend(['Survivors', 'Casualties'])\n",
    "plt.show()"
   ]
  },
  {
   "cell_type": "markdown",
   "id": "69ab8286",
   "metadata": {},
   "source": [
    "Seems like we're onto something here. Let's look closer at these percentages!"
   ]
  },
  {
   "cell_type": "code",
   "execution_count": 704,
   "id": "3c3578a9",
   "metadata": {},
   "outputs": [],
   "source": [
    "# Lil' function to get passengers in certain age ranges\n",
    "def get_passengers_by_age(df, age, span):\n",
    "    return df[df['Age'].between(age, age + span, \"both\")]"
   ]
  },
  {
   "cell_type": "code",
   "execution_count": 724,
   "id": "581665b9",
   "metadata": {},
   "outputs": [
    {
     "name": "stdout",
     "output_type": "stream",
     "text": [
      "\n",
      "Survivors: \n",
      "Age span: 1 - 8\n",
      "31\n",
      "Age span: 9 - 16\n",
      "25\n",
      "Age span: 17 - 24\n",
      "69\n",
      "Age span: 25 - 32\n",
      "72\n",
      "Age span: 33 - 40\n",
      "53\n",
      "Age span: 41 - 48\n",
      "28\n",
      "Age span: 49 - 56\n",
      "21\n",
      "Age span: 57 - 64\n",
      "9\n",
      "Age span: 65 - 72\n",
      "0\n",
      "Age span: 73 - 80\n",
      "1\n",
      "\n",
      "Casualties: \n",
      "Age span: 1 - 8\n",
      "24\n",
      "Age span: 9 - 16\n",
      "34\n",
      "Age span: 17 - 24\n",
      "132\n",
      "Age span: 25 - 32\n",
      "113\n",
      "Age span: 33 - 40\n",
      "71\n",
      "Age span: 41 - 48\n",
      "46\n",
      "Age span: 49 - 56\n",
      "26\n",
      "Age span: 57 - 64\n",
      "18\n",
      "Age span: 65 - 72\n",
      "9\n",
      "Age span: 73 - 80\n",
      "1\n",
      "\n",
      "The total of survivors is: 309\n",
      "The total of casualties is: 474\n",
      "Passengers with no age: 0\n",
      "Thus you have: 783\n",
      "\n",
      "Survivors actual: 290\n",
      "Casualties actual: 424\n",
      "The total amount of passengers: 891\n"
     ]
    }
   ],
   "source": [
    "# We have to do a little data trickery here because we have an age span of 81 years - don't tell anyone!\n",
    "survivors['Age'].apply(np.ceil)\n",
    "casualties['Age'].apply(np.ceil)\n",
    "survivors.dropna(subset=['Age'])\n",
    "casualties.dropna(subset=['Age'])\n",
    "\n",
    "span = 8\n",
    "total_survivors = 0\n",
    "total_casualties = 0\n",
    "\n",
    "print(\"\\nSurvivors: \")\n",
    "for n in range(10):\n",
    "    print(\"Age span: \" + str(n * span + 1) + \" - \" + str(n * span + span))\n",
    "    print(len(get_passengers_by_age(survivors, span * n + 1, span)))\n",
    "    total_survivors += len(get_passengers_by_age(survivors, span * n + 1, span))\n",
    "\n",
    "\n",
    "print(\"\\nCasualties: \")\n",
    "for n in range(10):\n",
    "    print(\"Age span: \" + str(n * span + 1) + \" - \" + str(n * span + span))\n",
    "    print(len(get_passengers_by_age(casualties, span * n + 1, span)))\n",
    "    total_casualties += len(get_passengers_by_age(casualties, span * n + 1, span))\n",
    "\n",
    "print(\"\\nThe total of survivors is: \" + str(total_survivors))\n",
    "print(\"The total of casualties is: \" + str(total_casualties))\n",
    "print(\"Passengers with no age: \" + str(len(np.where(pd.isnull(train_set['Age']))[0])))\n",
    "print(\"Thus you have: \" + str(total_survivors + total_casualties + len(np.where(pd.isnull(train_set['Age']))[0])))\n",
    "print(\"\\nSurvivors actual: \" + str(len(survivors.dropna(subset=['Age']))))\n",
    "print(\"Casualties actual: \" + str(len(casualties.dropna(subset=['Age']))))\n",
    "print(\"The total amount of passengers: \" + str(len(train_set.dropna(subset=['Age']))))"
   ]
  },
  {
   "cell_type": "code",
   "execution_count": 706,
   "id": "cd3d22cb",
   "metadata": {},
   "outputs": [
    {
     "data": {
      "text/plain": [
       "54"
      ]
     },
     "execution_count": 706,
     "metadata": {},
     "output_type": "execute_result"
    }
   ],
   "source": [
    "len(train_set[(train_set['Age'] >= 0) & (train_set['Age'] <= 8)])"
   ]
  },
  {
   "cell_type": "markdown",
   "id": "19f10b2a",
   "metadata": {},
   "source": [
    "## 3. Preprocessing the data"
   ]
  },
  {
   "cell_type": "markdown",
   "id": "627014e5",
   "metadata": {},
   "source": [
    "#### Handling missing data - Age"
   ]
  },
  {
   "cell_type": "markdown",
   "id": "05cde197",
   "metadata": {},
   "source": [
    "First we'll deal with the missing data, and we'll start with 'Age'. "
   ]
  },
  {
   "cell_type": "code",
   "execution_count": 707,
   "id": "148aebe1",
   "metadata": {},
   "outputs": [
    {
     "name": "stdout",
     "output_type": "stream",
     "text": [
      "0     22.0\n",
      "1     38.0\n",
      "2     26.0\n",
      "3     35.0\n",
      "4     35.0\n",
      "5      NaN\n",
      "6     54.0\n",
      "7      2.0\n",
      "8     27.0\n",
      "9     14.0\n",
      "10     4.0\n",
      "11    58.0\n",
      "12    20.0\n",
      "13    39.0\n",
      "14    14.0\n",
      "15    55.0\n",
      "16     2.0\n",
      "17     NaN\n",
      "18    31.0\n",
      "19     NaN\n",
      "Name: Age, dtype: float64\n"
     ]
    }
   ],
   "source": [
    "print(train_set['Age'][:20])"
   ]
  },
  {
   "cell_type": "markdown",
   "id": "2c2a6fe6",
   "metadata": {},
   "source": [
    "It can safely be assumed that the age of an individual affects survival rate, so we would like to keep this category. That means we'll have to fill it out, with either the mean, median or mode value. Let's check out what they are!"
   ]
  },
  {
   "cell_type": "markdown",
   "id": "e98d44a0",
   "metadata": {},
   "source": [
    "First we'll make a copy of the training set without any missing age values:"
   ]
  },
  {
   "cell_type": "code",
   "execution_count": 708,
   "id": "481c3f78",
   "metadata": {},
   "outputs": [],
   "source": [
    "train_set_without_missing_age_values = train_set.dropna(subset=['Age'])"
   ]
  },
  {
   "cell_type": "markdown",
   "id": "7d64c6dd",
   "metadata": {},
   "source": [
    "###### Mean"
   ]
  },
  {
   "cell_type": "code",
   "execution_count": 709,
   "id": "8590bf1e",
   "metadata": {},
   "outputs": [
    {
     "name": "stdout",
     "output_type": "stream",
     "text": [
      "Mean passenger age: 29.7 years\n"
     ]
    }
   ],
   "source": [
    "no_of_passengers = len(train_set_without_missing_age_values)\n",
    "sum_of_ages = train_set_without_missing_age_values['Age'].sum()\n",
    "mean_age = sum_of_ages / no_of_passengers\n",
    "\n",
    "print('Mean passenger age: ' + str(round(mean_age, 1)) + \" years\")"
   ]
  },
  {
   "cell_type": "markdown",
   "id": "3c00d581",
   "metadata": {},
   "source": [
    "##### Median"
   ]
  },
  {
   "cell_type": "code",
   "execution_count": 710,
   "id": "70c5e56e",
   "metadata": {},
   "outputs": [
    {
     "name": "stdout",
     "output_type": "stream",
     "text": [
      "Median passenger age: 28.0 years\n"
     ]
    }
   ],
   "source": [
    "train_set_by_age = train_set_without_missing_age_values.sort_values(by=['Age'])\n",
    "no_of_passengers = len(train_set_by_age)\n",
    "median_age = train_set_by_age['Age'].iloc[math.ceil(no_of_passengers/2)]\n",
    "\n",
    "print('Median passenger age: ' + str(round(median_age, 1)) + \" years\")"
   ]
  },
  {
   "cell_type": "markdown",
   "id": "144300a4",
   "metadata": {},
   "source": [
    "##### Mode"
   ]
  },
  {
   "cell_type": "code",
   "execution_count": 711,
   "id": "dd14b523",
   "metadata": {},
   "outputs": [
    {
     "name": "stdout",
     "output_type": "stream",
     "text": [
      "Mode passenger age: 24.0\n"
     ]
    }
   ],
   "source": [
    "from collections import Counter\n",
    "\n",
    "no_of_passengers = len(train_set_without_missing_age_values)\n",
    "value = Counter(train_set_without_missing_age_values['Age'].apply(np.ceil))\n",
    "findMode = dict(value)\n",
    "mode_age = [i for i, v in findMode.items() if v == max(list(value.values()))]  \n",
    "\n",
    "print(\"Mode passenger age: \" + ', '.join(map(str, mode_age)))"
   ]
  },
  {
   "cell_type": "markdown",
   "id": "d394c715",
   "metadata": {},
   "source": [
    "So there is a a difference in ~6 years between the lowest and highest \"averages\". Which should we choose?"
   ]
  },
  {
   "cell_type": "code",
   "execution_count": 712,
   "id": "6a4e7e94",
   "metadata": {},
   "outputs": [
    {
     "data": {
      "text/plain": [
       "<AxesSubplot:ylabel='Density'>"
      ]
     },
     "execution_count": 712,
     "metadata": {},
     "output_type": "execute_result"
    },
    {
     "data": {
      "image/png": "[encoded data removed]",
      "text/plain": [
       "<Figure size 432x288 with 1 Axes>"
      ]
     },
     "metadata": {
      "needs_background": "light"
     },
     "output_type": "display_data"
    }
   ],
   "source": [
    "train_set_without_missing_age_values['Age'].plot(kind='kde')"
   ]
  },
  {
   "cell_type": "code",
   "execution_count": 713,
   "id": "fde1374d",
   "metadata": {},
   "outputs": [
    {
     "data": {
      "text/plain": [
       "<AxesSubplot:ylabel='Frequency'>"
      ]
     },
     "execution_count": 713,
     "metadata": {},
     "output_type": "execute_result"
    },
    {
     "data": {
      "image/png": "[encoded data removed]",
      "text/plain": [
       "<Figure size 432x288 with 1 Axes>"
      ]
     },
     "metadata": {
      "needs_background": "light"
     },
     "output_type": "display_data"
    }
   ],
   "source": [
    "train_set_without_missing_age_values['Age'].plot(kind='hist')"
   ]
  },
  {
   "cell_type": "code",
   "execution_count": 714,
   "id": "66c48e7a",
   "metadata": {},
   "outputs": [
    {
     "name": "stdout",
     "output_type": "stream",
     "text": [
      "Skew: 0.3882898514698657\n"
     ]
    }
   ],
   "source": [
    "print('Skew: ' + str(skew(train_set_without_missing_age_values['Age'])))"
   ]
  },
  {
   "cell_type": "markdown",
   "id": "3d136e9f",
   "metadata": {},
   "source": [
    "Seeing as our data is slightly right skewed, we will fill missing age values with the median age.\n",
    "\n",
    "(Source: https://statisticsbyjim.com/basics/measures-central-tendency-mean-median-mode/)"
   ]
  },
  {
   "cell_type": "code",
   "execution_count": 715,
   "id": "c8fec4bf",
   "metadata": {},
   "outputs": [],
   "source": [
    "train_set_median_age = train_set #TODO: Is this needed?\n",
    "train_set_median_age['Age'] = train_set['Age'].fillna(median_age)"
   ]
  },
  {
   "cell_type": "markdown",
   "id": "8823e754",
   "metadata": {},
   "source": [
    "Let's make sure we didn't screw this up."
   ]
  },
  {
   "cell_type": "code",
   "execution_count": 716,
   "id": "912c090e",
   "metadata": {
    "scrolled": true
   },
   "outputs": [
    {
     "data": {
      "text/html": [
       "<div>\n",
       "<style scoped>\n",
       "    .dataframe tbody tr th:only-of-type {\n",
       "        vertical-align: middle;\n",
       "    }\n",
       "\n",
       "    .dataframe tbody tr th {\n",
       "        vertical-align: top;\n",
       "    }\n",
       "\n",
       "    .dataframe thead th {\n",
       "        text-align: right;\n",
       "    }\n",
       "</style>\n",
       "<table border=\"1\" class=\"dataframe\">\n",
       "  <thead>\n",
       "    <tr style=\"text-align: right;\">\n",
       "      <th></th>\n",
       "      <th>PassengerId</th>\n",
       "      <th>Survived</th>\n",
       "      <th>Pclass</th>\n",
       "      <th>Name</th>\n",
       "      <th>Sex</th>\n",
       "      <th>Age</th>\n",
       "      <th>SibSp</th>\n",
       "      <th>Parch</th>\n",
       "      <th>Ticket</th>\n",
       "      <th>Fare</th>\n",
       "      <th>Cabin</th>\n",
       "      <th>Embarked</th>\n",
       "    </tr>\n",
       "  </thead>\n",
       "  <tbody>\n",
       "    <tr>\n",
       "      <th>0</th>\n",
       "      <td>1</td>\n",
       "      <td>0</td>\n",
       "      <td>3</td>\n",
       "      <td>Braund, Mr. Owen Harris</td>\n",
       "      <td>male</td>\n",
       "      <td>22.0</td>\n",
       "      <td>1</td>\n",
       "      <td>0</td>\n",
       "      <td>A/5 21171</td>\n",
       "      <td>7.2500</td>\n",
       "      <td>NaN</td>\n",
       "      <td>S</td>\n",
       "    </tr>\n",
       "    <tr>\n",
       "      <th>1</th>\n",
       "      <td>2</td>\n",
       "      <td>1</td>\n",
       "      <td>1</td>\n",
       "      <td>Cumings, Mrs. John Bradley (Florence Briggs Th...</td>\n",
       "      <td>female</td>\n",
       "      <td>38.0</td>\n",
       "      <td>1</td>\n",
       "      <td>0</td>\n",
       "      <td>PC 17599</td>\n",
       "      <td>71.2833</td>\n",
       "      <td>C85</td>\n",
       "      <td>C</td>\n",
       "    </tr>\n",
       "    <tr>\n",
       "      <th>2</th>\n",
       "      <td>3</td>\n",
       "      <td>1</td>\n",
       "      <td>3</td>\n",
       "      <td>Heikkinen, Miss. Laina</td>\n",
       "      <td>female</td>\n",
       "      <td>26.0</td>\n",
       "      <td>0</td>\n",
       "      <td>0</td>\n",
       "      <td>STON/O2. 3101282</td>\n",
       "      <td>7.9250</td>\n",
       "      <td>NaN</td>\n",
       "      <td>S</td>\n",
       "    </tr>\n",
       "    <tr>\n",
       "      <th>3</th>\n",
       "      <td>4</td>\n",
       "      <td>1</td>\n",
       "      <td>1</td>\n",
       "      <td>Futrelle, Mrs. Jacques Heath (Lily May Peel)</td>\n",
       "      <td>female</td>\n",
       "      <td>35.0</td>\n",
       "      <td>1</td>\n",
       "      <td>0</td>\n",
       "      <td>113803</td>\n",
       "      <td>53.1000</td>\n",
       "      <td>C123</td>\n",
       "      <td>S</td>\n",
       "    </tr>\n",
       "    <tr>\n",
       "      <th>4</th>\n",
       "      <td>5</td>\n",
       "      <td>0</td>\n",
       "      <td>3</td>\n",
       "      <td>Allen, Mr. William Henry</td>\n",
       "      <td>male</td>\n",
       "      <td>35.0</td>\n",
       "      <td>0</td>\n",
       "      <td>0</td>\n",
       "      <td>373450</td>\n",
       "      <td>8.0500</td>\n",
       "      <td>NaN</td>\n",
       "      <td>S</td>\n",
       "    </tr>\n",
       "    <tr>\n",
       "      <th>5</th>\n",
       "      <td>6</td>\n",
       "      <td>0</td>\n",
       "      <td>3</td>\n",
       "      <td>Moran, Mr. James</td>\n",
       "      <td>male</td>\n",
       "      <td>28.0</td>\n",
       "      <td>0</td>\n",
       "      <td>0</td>\n",
       "      <td>330877</td>\n",
       "      <td>8.4583</td>\n",
       "      <td>NaN</td>\n",
       "      <td>Q</td>\n",
       "    </tr>\n",
       "    <tr>\n",
       "      <th>6</th>\n",
       "      <td>7</td>\n",
       "      <td>0</td>\n",
       "      <td>1</td>\n",
       "      <td>McCarthy, Mr. Timothy J</td>\n",
       "      <td>male</td>\n",
       "      <td>54.0</td>\n",
       "      <td>0</td>\n",
       "      <td>0</td>\n",
       "      <td>17463</td>\n",
       "      <td>51.8625</td>\n",
       "      <td>E46</td>\n",
       "      <td>S</td>\n",
       "    </tr>\n",
       "    <tr>\n",
       "      <th>7</th>\n",
       "      <td>8</td>\n",
       "      <td>0</td>\n",
       "      <td>3</td>\n",
       "      <td>Palsson, Master. Gosta Leonard</td>\n",
       "      <td>male</td>\n",
       "      <td>2.0</td>\n",
       "      <td>3</td>\n",
       "      <td>1</td>\n",
       "      <td>349909</td>\n",
       "      <td>21.0750</td>\n",
       "      <td>NaN</td>\n",
       "      <td>S</td>\n",
       "    </tr>\n",
       "    <tr>\n",
       "      <th>8</th>\n",
       "      <td>9</td>\n",
       "      <td>1</td>\n",
       "      <td>3</td>\n",
       "      <td>Johnson, Mrs. Oscar W (Elisabeth Vilhelmina Berg)</td>\n",
       "      <td>female</td>\n",
       "      <td>27.0</td>\n",
       "      <td>0</td>\n",
       "      <td>2</td>\n",
       "      <td>347742</td>\n",
       "      <td>11.1333</td>\n",
       "      <td>NaN</td>\n",
       "      <td>S</td>\n",
       "    </tr>\n",
       "    <tr>\n",
       "      <th>9</th>\n",
       "      <td>10</td>\n",
       "      <td>1</td>\n",
       "      <td>2</td>\n",
       "      <td>Nasser, Mrs. Nicholas (Adele Achem)</td>\n",
       "      <td>female</td>\n",
       "      <td>14.0</td>\n",
       "      <td>1</td>\n",
       "      <td>0</td>\n",
       "      <td>237736</td>\n",
       "      <td>30.0708</td>\n",
       "      <td>NaN</td>\n",
       "      <td>C</td>\n",
       "    </tr>\n",
       "  </tbody>\n",
       "</table>\n",
       "</div>"
      ],
      "text/plain": [
       "   PassengerId  Survived  Pclass  \\\n",
       "0            1         0       3   \n",
       "1            2         1       1   \n",
       "2            3         1       3   \n",
       "3            4         1       1   \n",
       "4            5         0       3   \n",
       "5            6         0       3   \n",
       "6            7         0       1   \n",
       "7            8         0       3   \n",
       "8            9         1       3   \n",
       "9           10         1       2   \n",
       "\n",
       "                                                Name     Sex   Age  SibSp  \\\n",
       "0                            Braund, Mr. Owen Harris    male  22.0      1   \n",
       "1  Cumings, Mrs. John Bradley (Florence Briggs Th...  female  38.0      1   \n",
       "2                             Heikkinen, Miss. Laina  female  26.0      0   \n",
       "3       Futrelle, Mrs. Jacques Heath (Lily May Peel)  female  35.0      1   \n",
       "4                           Allen, Mr. William Henry    male  35.0      0   \n",
       "5                                   Moran, Mr. James    male  28.0      0   \n",
       "6                            McCarthy, Mr. Timothy J    male  54.0      0   \n",
       "7                     Palsson, Master. Gosta Leonard    male   2.0      3   \n",
       "8  Johnson, Mrs. Oscar W (Elisabeth Vilhelmina Berg)  female  27.0      0   \n",
       "9                Nasser, Mrs. Nicholas (Adele Achem)  female  14.0      1   \n",
       "\n",
       "   Parch            Ticket     Fare Cabin Embarked  \n",
       "0      0         A/5 21171   7.2500   NaN        S  \n",
       "1      0          PC 17599  71.2833   C85        C  \n",
       "2      0  STON/O2. 3101282   7.9250   NaN        S  \n",
       "3      0            113803  53.1000  C123        S  \n",
       "4      0            373450   8.0500   NaN        S  \n",
       "5      0            330877   8.4583   NaN        Q  \n",
       "6      0             17463  51.8625   E46        S  \n",
       "7      1            349909  21.0750   NaN        S  \n",
       "8      2            347742  11.1333   NaN        S  \n",
       "9      0            237736  30.0708   NaN        C  "
      ]
     },
     "execution_count": 716,
     "metadata": {},
     "output_type": "execute_result"
    }
   ],
   "source": [
    "train_set_median_age.head(10)"
   ]
  },
  {
   "cell_type": "markdown",
   "id": "30ddb069",
   "metadata": {},
   "source": [
    "Sweet! Onto the next now."
   ]
  },
  {
   "cell_type": "markdown",
   "id": "25f72b00",
   "metadata": {},
   "source": [
    "#### Handling missing data - Cabin"
   ]
  },
  {
   "cell_type": "markdown",
   "id": "abe3c963",
   "metadata": {},
   "source": [
    "80% of the values in this column are missing, so we will simply remove the whole column. Bye bye!"
   ]
  },
  {
   "cell_type": "code",
   "execution_count": 717,
   "id": "2fdf4ca7",
   "metadata": {},
   "outputs": [],
   "source": [
    "train_set_without_cabin = train_set_median_age.drop('Cabin', inplace=False, axis=1)"
   ]
  },
  {
   "cell_type": "code",
   "execution_count": 718,
   "id": "73d52f3b",
   "metadata": {},
   "outputs": [
    {
     "data": {
      "text/html": [
       "<div>\n",
       "<style scoped>\n",
       "    .dataframe tbody tr th:only-of-type {\n",
       "        vertical-align: middle;\n",
       "    }\n",
       "\n",
       "    .dataframe tbody tr th {\n",
       "        vertical-align: top;\n",
       "    }\n",
       "\n",
       "    .dataframe thead th {\n",
       "        text-align: right;\n",
       "    }\n",
       "</style>\n",
       "<table border=\"1\" class=\"dataframe\">\n",
       "  <thead>\n",
       "    <tr style=\"text-align: right;\">\n",
       "      <th></th>\n",
       "      <th>PassengerId</th>\n",
       "      <th>Survived</th>\n",
       "      <th>Pclass</th>\n",
       "      <th>Name</th>\n",
       "      <th>Sex</th>\n",
       "      <th>Age</th>\n",
       "      <th>SibSp</th>\n",
       "      <th>Parch</th>\n",
       "      <th>Ticket</th>\n",
       "      <th>Fare</th>\n",
       "      <th>Embarked</th>\n",
       "    </tr>\n",
       "  </thead>\n",
       "  <tbody>\n",
       "    <tr>\n",
       "      <th>0</th>\n",
       "      <td>1</td>\n",
       "      <td>0</td>\n",
       "      <td>3</td>\n",
       "      <td>Braund, Mr. Owen Harris</td>\n",
       "      <td>male</td>\n",
       "      <td>22.0</td>\n",
       "      <td>1</td>\n",
       "      <td>0</td>\n",
       "      <td>A/5 21171</td>\n",
       "      <td>7.2500</td>\n",
       "      <td>S</td>\n",
       "    </tr>\n",
       "    <tr>\n",
       "      <th>1</th>\n",
       "      <td>2</td>\n",
       "      <td>1</td>\n",
       "      <td>1</td>\n",
       "      <td>Cumings, Mrs. John Bradley (Florence Briggs Th...</td>\n",
       "      <td>female</td>\n",
       "      <td>38.0</td>\n",
       "      <td>1</td>\n",
       "      <td>0</td>\n",
       "      <td>PC 17599</td>\n",
       "      <td>71.2833</td>\n",
       "      <td>C</td>\n",
       "    </tr>\n",
       "    <tr>\n",
       "      <th>2</th>\n",
       "      <td>3</td>\n",
       "      <td>1</td>\n",
       "      <td>3</td>\n",
       "      <td>Heikkinen, Miss. Laina</td>\n",
       "      <td>female</td>\n",
       "      <td>26.0</td>\n",
       "      <td>0</td>\n",
       "      <td>0</td>\n",
       "      <td>STON/O2. 3101282</td>\n",
       "      <td>7.9250</td>\n",
       "      <td>S</td>\n",
       "    </tr>\n",
       "    <tr>\n",
       "      <th>3</th>\n",
       "      <td>4</td>\n",
       "      <td>1</td>\n",
       "      <td>1</td>\n",
       "      <td>Futrelle, Mrs. Jacques Heath (Lily May Peel)</td>\n",
       "      <td>female</td>\n",
       "      <td>35.0</td>\n",
       "      <td>1</td>\n",
       "      <td>0</td>\n",
       "      <td>113803</td>\n",
       "      <td>53.1000</td>\n",
       "      <td>S</td>\n",
       "    </tr>\n",
       "    <tr>\n",
       "      <th>4</th>\n",
       "      <td>5</td>\n",
       "      <td>0</td>\n",
       "      <td>3</td>\n",
       "      <td>Allen, Mr. William Henry</td>\n",
       "      <td>male</td>\n",
       "      <td>35.0</td>\n",
       "      <td>0</td>\n",
       "      <td>0</td>\n",
       "      <td>373450</td>\n",
       "      <td>8.0500</td>\n",
       "      <td>S</td>\n",
       "    </tr>\n",
       "    <tr>\n",
       "      <th>5</th>\n",
       "      <td>6</td>\n",
       "      <td>0</td>\n",
       "      <td>3</td>\n",
       "      <td>Moran, Mr. James</td>\n",
       "      <td>male</td>\n",
       "      <td>28.0</td>\n",
       "      <td>0</td>\n",
       "      <td>0</td>\n",
       "      <td>330877</td>\n",
       "      <td>8.4583</td>\n",
       "      <td>Q</td>\n",
       "    </tr>\n",
       "    <tr>\n",
       "      <th>6</th>\n",
       "      <td>7</td>\n",
       "      <td>0</td>\n",
       "      <td>1</td>\n",
       "      <td>McCarthy, Mr. Timothy J</td>\n",
       "      <td>male</td>\n",
       "      <td>54.0</td>\n",
       "      <td>0</td>\n",
       "      <td>0</td>\n",
       "      <td>17463</td>\n",
       "      <td>51.8625</td>\n",
       "      <td>S</td>\n",
       "    </tr>\n",
       "    <tr>\n",
       "      <th>7</th>\n",
       "      <td>8</td>\n",
       "      <td>0</td>\n",
       "      <td>3</td>\n",
       "      <td>Palsson, Master. Gosta Leonard</td>\n",
       "      <td>male</td>\n",
       "      <td>2.0</td>\n",
       "      <td>3</td>\n",
       "      <td>1</td>\n",
       "      <td>349909</td>\n",
       "      <td>21.0750</td>\n",
       "      <td>S</td>\n",
       "    </tr>\n",
       "    <tr>\n",
       "      <th>8</th>\n",
       "      <td>9</td>\n",
       "      <td>1</td>\n",
       "      <td>3</td>\n",
       "      <td>Johnson, Mrs. Oscar W (Elisabeth Vilhelmina Berg)</td>\n",
       "      <td>female</td>\n",
       "      <td>27.0</td>\n",
       "      <td>0</td>\n",
       "      <td>2</td>\n",
       "      <td>347742</td>\n",
       "      <td>11.1333</td>\n",
       "      <td>S</td>\n",
       "    </tr>\n",
       "    <tr>\n",
       "      <th>9</th>\n",
       "      <td>10</td>\n",
       "      <td>1</td>\n",
       "      <td>2</td>\n",
       "      <td>Nasser, Mrs. Nicholas (Adele Achem)</td>\n",
       "      <td>female</td>\n",
       "      <td>14.0</td>\n",
       "      <td>1</td>\n",
       "      <td>0</td>\n",
       "      <td>237736</td>\n",
       "      <td>30.0708</td>\n",
       "      <td>C</td>\n",
       "    </tr>\n",
       "  </tbody>\n",
       "</table>\n",
       "</div>"
      ],
      "text/plain": [
       "   PassengerId  Survived  Pclass  \\\n",
       "0            1         0       3   \n",
       "1            2         1       1   \n",
       "2            3         1       3   \n",
       "3            4         1       1   \n",
       "4            5         0       3   \n",
       "5            6         0       3   \n",
       "6            7         0       1   \n",
       "7            8         0       3   \n",
       "8            9         1       3   \n",
       "9           10         1       2   \n",
       "\n",
       "                                                Name     Sex   Age  SibSp  \\\n",
       "0                            Braund, Mr. Owen Harris    male  22.0      1   \n",
       "1  Cumings, Mrs. John Bradley (Florence Briggs Th...  female  38.0      1   \n",
       "2                             Heikkinen, Miss. Laina  female  26.0      0   \n",
       "3       Futrelle, Mrs. Jacques Heath (Lily May Peel)  female  35.0      1   \n",
       "4                           Allen, Mr. William Henry    male  35.0      0   \n",
       "5                                   Moran, Mr. James    male  28.0      0   \n",
       "6                            McCarthy, Mr. Timothy J    male  54.0      0   \n",
       "7                     Palsson, Master. Gosta Leonard    male   2.0      3   \n",
       "8  Johnson, Mrs. Oscar W (Elisabeth Vilhelmina Berg)  female  27.0      0   \n",
       "9                Nasser, Mrs. Nicholas (Adele Achem)  female  14.0      1   \n",
       "\n",
       "   Parch            Ticket     Fare Embarked  \n",
       "0      0         A/5 21171   7.2500        S  \n",
       "1      0          PC 17599  71.2833        C  \n",
       "2      0  STON/O2. 3101282   7.9250        S  \n",
       "3      0            113803  53.1000        S  \n",
       "4      0            373450   8.0500        S  \n",
       "5      0            330877   8.4583        Q  \n",
       "6      0             17463  51.8625        S  \n",
       "7      1            349909  21.0750        S  \n",
       "8      2            347742  11.1333        S  \n",
       "9      0            237736  30.0708        C  "
      ]
     },
     "execution_count": 718,
     "metadata": {},
     "output_type": "execute_result"
    }
   ],
   "source": [
    "train_set_without_cabin.head(10)"
   ]
  },
  {
   "cell_type": "markdown",
   "id": "7473d5d6",
   "metadata": {},
   "source": [
    "#### Handling missing data - Embarked"
   ]
  },
  {
   "cell_type": "markdown",
   "id": "46475b70",
   "metadata": {},
   "source": [
    "In this column only two values are missing. Therefore we will fill them with the value that reoccurs the most."
   ]
  },
  {
   "cell_type": "code",
   "execution_count": 719,
   "id": "ff9bd261",
   "metadata": {},
   "outputs": [
    {
     "data": {
      "text/plain": [
       "'S'"
      ]
     },
     "execution_count": 719,
     "metadata": {},
     "output_type": "execute_result"
    }
   ],
   "source": [
    "mode_embarked = train_set_without_cabin['Embarked'].mode()[0]\n",
    "\n",
    "mode_embarked"
   ]
  },
  {
   "cell_type": "code",
   "execution_count": 720,
   "id": "f9d0d9c5",
   "metadata": {},
   "outputs": [],
   "source": [
    "train_set_filled = train_set_without_cabin\n",
    "train_set_filled['Embarked'] = train_set_filled['Embarked'].fillna(mode_embarked)"
   ]
  },
  {
   "cell_type": "code",
   "execution_count": 721,
   "id": "1ec33faf",
   "metadata": {},
   "outputs": [
    {
     "data": {
      "text/plain": [
       "PassengerId    0\n",
       "Survived       0\n",
       "Pclass         0\n",
       "Name           0\n",
       "Sex            0\n",
       "Age            0\n",
       "SibSp          0\n",
       "Parch          0\n",
       "Ticket         0\n",
       "Fare           0\n",
       "Embarked       0\n",
       "dtype: int64"
      ]
     },
     "execution_count": 721,
     "metadata": {},
     "output_type": "execute_result"
    }
   ],
   "source": [
    "train_set_filled.isna().sum() "
   ]
  },
  {
   "cell_type": "markdown",
   "id": "0561e23f",
   "metadata": {},
   "source": [
    "Looks good!"
   ]
  },
  {
   "cell_type": "code",
   "execution_count": 722,
   "id": "9e2ae500",
   "metadata": {},
   "outputs": [
    {
     "data": {
      "text/html": [
       "<div>\n",
       "<style scoped>\n",
       "    .dataframe tbody tr th:only-of-type {\n",
       "        vertical-align: middle;\n",
       "    }\n",
       "\n",
       "    .dataframe tbody tr th {\n",
       "        vertical-align: top;\n",
       "    }\n",
       "\n",
       "    .dataframe thead th {\n",
       "        text-align: right;\n",
       "    }\n",
       "</style>\n",
       "<table border=\"1\" class=\"dataframe\">\n",
       "  <thead>\n",
       "    <tr style=\"text-align: right;\">\n",
       "      <th></th>\n",
       "      <th>PassengerId</th>\n",
       "      <th>Survived</th>\n",
       "      <th>Pclass</th>\n",
       "      <th>Name</th>\n",
       "      <th>Sex</th>\n",
       "      <th>Age</th>\n",
       "      <th>SibSp</th>\n",
       "      <th>Parch</th>\n",
       "      <th>Ticket</th>\n",
       "      <th>Fare</th>\n",
       "      <th>Embarked</th>\n",
       "    </tr>\n",
       "  </thead>\n",
       "  <tbody>\n",
       "    <tr>\n",
       "      <th>0</th>\n",
       "      <td>1</td>\n",
       "      <td>0</td>\n",
       "      <td>3</td>\n",
       "      <td>Braund, Mr. Owen Harris</td>\n",
       "      <td>male</td>\n",
       "      <td>22.0</td>\n",
       "      <td>1</td>\n",
       "      <td>0</td>\n",
       "      <td>A/5 21171</td>\n",
       "      <td>7.2500</td>\n",
       "      <td>S</td>\n",
       "    </tr>\n",
       "    <tr>\n",
       "      <th>1</th>\n",
       "      <td>2</td>\n",
       "      <td>1</td>\n",
       "      <td>1</td>\n",
       "      <td>Cumings, Mrs. John Bradley (Florence Briggs Th...</td>\n",
       "      <td>female</td>\n",
       "      <td>38.0</td>\n",
       "      <td>1</td>\n",
       "      <td>0</td>\n",
       "      <td>PC 17599</td>\n",
       "      <td>71.2833</td>\n",
       "      <td>C</td>\n",
       "    </tr>\n",
       "    <tr>\n",
       "      <th>2</th>\n",
       "      <td>3</td>\n",
       "      <td>1</td>\n",
       "      <td>3</td>\n",
       "      <td>Heikkinen, Miss. Laina</td>\n",
       "      <td>female</td>\n",
       "      <td>26.0</td>\n",
       "      <td>0</td>\n",
       "      <td>0</td>\n",
       "      <td>STON/O2. 3101282</td>\n",
       "      <td>7.9250</td>\n",
       "      <td>S</td>\n",
       "    </tr>\n",
       "    <tr>\n",
       "      <th>3</th>\n",
       "      <td>4</td>\n",
       "      <td>1</td>\n",
       "      <td>1</td>\n",
       "      <td>Futrelle, Mrs. Jacques Heath (Lily May Peel)</td>\n",
       "      <td>female</td>\n",
       "      <td>35.0</td>\n",
       "      <td>1</td>\n",
       "      <td>0</td>\n",
       "      <td>113803</td>\n",
       "      <td>53.1000</td>\n",
       "      <td>S</td>\n",
       "    </tr>\n",
       "    <tr>\n",
       "      <th>4</th>\n",
       "      <td>5</td>\n",
       "      <td>0</td>\n",
       "      <td>3</td>\n",
       "      <td>Allen, Mr. William Henry</td>\n",
       "      <td>male</td>\n",
       "      <td>35.0</td>\n",
       "      <td>0</td>\n",
       "      <td>0</td>\n",
       "      <td>373450</td>\n",
       "      <td>8.0500</td>\n",
       "      <td>S</td>\n",
       "    </tr>\n",
       "  </tbody>\n",
       "</table>\n",
       "</div>"
      ],
      "text/plain": [
       "   PassengerId  Survived  Pclass  \\\n",
       "0            1         0       3   \n",
       "1            2         1       1   \n",
       "2            3         1       3   \n",
       "3            4         1       1   \n",
       "4            5         0       3   \n",
       "\n",
       "                                                Name     Sex   Age  SibSp  \\\n",
       "0                            Braund, Mr. Owen Harris    male  22.0      1   \n",
       "1  Cumings, Mrs. John Bradley (Florence Briggs Th...  female  38.0      1   \n",
       "2                             Heikkinen, Miss. Laina  female  26.0      0   \n",
       "3       Futrelle, Mrs. Jacques Heath (Lily May Peel)  female  35.0      1   \n",
       "4                           Allen, Mr. William Henry    male  35.0      0   \n",
       "\n",
       "   Parch            Ticket     Fare Embarked  \n",
       "0      0         A/5 21171   7.2500        S  \n",
       "1      0          PC 17599  71.2833        C  \n",
       "2      0  STON/O2. 3101282   7.9250        S  \n",
       "3      0            113803  53.1000        S  \n",
       "4      0            373450   8.0500        S  "
      ]
     },
     "execution_count": 722,
     "metadata": {},
     "output_type": "execute_result"
    }
   ],
   "source": [
    "train_set_filled.head()"
   ]
  },
  {
   "cell_type": "markdown",
   "id": "a0714f0a",
   "metadata": {},
   "source": [
    "## 4. Choosing a Model"
   ]
  },
  {
   "cell_type": "markdown",
   "id": "a3349043",
   "metadata": {},
   "source": [
    "## 5. Training the Model"
   ]
  },
  {
   "cell_type": "markdown",
   "id": "8cf3c707",
   "metadata": {},
   "source": [
    "## 6.Evaluating the Model"
   ]
  },
  {
   "cell_type": "markdown",
   "id": "3445f692",
   "metadata": {},
   "source": [
    "## 7. Tuning the Parameters"
   ]
  },
  {
   "cell_type": "markdown",
   "id": "76ade742",
   "metadata": {},
   "source": [
    "## 8. Making a Prediction"
   ]
  },
  {
   "cell_type": "code",
   "execution_count": null,
   "id": "e68bb210",
   "metadata": {},
   "outputs": [],
   "source": []
  },
  {
   "cell_type": "code",
   "execution_count": null,
   "id": "33224ead",
   "metadata": {},
   "outputs": [],
   "source": []
  }
 ],
 "metadata": {
  "kernelspec": {
   "display_name": "Python 3",
   "language": "python",
   "name": "python3"
  },
  "language_info": {
   "codemirror_mode": {
    "name": "ipython",
    "version": 3
   },
   "file_extension": ".py",
   "mimetype": "text/x-python",
   "name": "python",
   "nbconvert_exporter": "python",
   "pygments_lexer": "ipython3",
   "version": "3.8.8"
  }
 },
 "nbformat": 4,
 "nbformat_minor": 5
}
